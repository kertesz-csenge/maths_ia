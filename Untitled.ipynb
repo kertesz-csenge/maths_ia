{
 "cells": [
  {
   "cell_type": "code",
   "execution_count": 1,
   "id": "39a3408f-d65a-43ac-9694-c433fe9bda6d",
   "metadata": {
    "tags": []
   },
   "outputs": [],
   "source": [
    "from coords import x, y\n",
    "from lagrange import print_lagrange"
   ]
  },
  {
   "cell_type": "code",
   "execution_count": 2,
   "id": "fc6c31ee-43df-4a0d-9efc-9e16d76c15b2",
   "metadata": {
    "tags": []
   },
   "outputs": [
    {
     "name": "stdout",
     "output_type": "stream",
     "text": [
      "0.045*(x-2.244)(x-0.935)(x-0.443)(x-0.800)(x-3.336)(x-5.646)(x-6.476)(x-5.944)(x-5.558)(x-5.040)/100.507+\n",
      "0.175*(x-2.301)(x-0.935)(x-0.443)(x-0.800)(x-3.336)(x-5.646)(x-6.476)(x-5.944)(x-5.558)(x-5.040)/-103.016+\n",
      "0.679*(x-2.301)(x-2.244)(x-0.443)(x-0.800)(x-3.336)(x-5.646)(x-6.476)(x-5.944)(x-5.558)(x-5.040)/707.479+\n",
      "1.521*(x-2.301)(x-2.244)(x-0.935)(x-0.800)(x-3.336)(x-5.646)(x-6.476)(x-5.944)(x-5.558)(x-5.040)/6911.563+\n",
      "2.508*(x-2.301)(x-2.244)(x-0.935)(x-0.443)(x-3.336)(x-5.646)(x-6.476)(x-5.944)(x-5.558)(x-5.040)/-756.028+\n",
      "3.460*(x-2.301)(x-2.244)(x-0.935)(x-0.443)(x-0.800)(x-5.646)(x-6.476)(x-5.944)(x-5.558)(x-5.040)/-1426.517+\n",
      "2.774*(x-2.301)(x-2.244)(x-0.935)(x-0.443)(x-0.800)(x-3.336)(x-6.476)(x-5.944)(x-5.558)(x-5.040)/41.136+\n",
      "1.481*(x-2.301)(x-2.244)(x-0.935)(x-0.443)(x-0.800)(x-3.336)(x-5.646)(x-5.944)(x-5.558)(x-5.040)/6117.901+\n",
      "0.639*(x-2.301)(x-2.244)(x-0.935)(x-0.443)(x-0.800)(x-3.336)(x-5.646)(x-6.476)(x-5.558)(x-5.040)/-275.346+\n",
      "0.256*(x-2.301)(x-2.244)(x-0.935)(x-0.443)(x-0.800)(x-3.336)(x-5.646)(x-6.476)(x-5.944)(x-5.040)/-43.535+\n",
      "0.034*(x-2.301)(x-2.244)(x-0.935)(x-0.443)(x-0.800)(x-3.336)(x-5.646)(x-6.476)(x-5.944)(x-5.558)/425.171+\n",
      "\n"
     ]
    }
   ],
   "source": [
    "x = print_lagrange(x, y)\n",
    "print(x)"
   ]
  },
  {
   "cell_type": "code",
   "execution_count": null,
   "id": "39571390-fb9c-4fea-b734-cef7577f28a8",
   "metadata": {},
   "outputs": [],
   "source": []
  }
 ],
 "metadata": {
  "kernelspec": {
   "display_name": "Python 3 (ipykernel)",
   "language": "python",
   "name": "python3"
  },
  "language_info": {
   "codemirror_mode": {
    "name": "ipython",
    "version": 3
   },
   "file_extension": ".py",
   "mimetype": "text/x-python",
   "name": "python",
   "nbconvert_exporter": "python",
   "pygments_lexer": "ipython3",
   "version": "3.11.5"
  }
 },
 "nbformat": 4,
 "nbformat_minor": 5
}
