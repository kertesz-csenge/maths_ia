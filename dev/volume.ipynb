{
 "cells": [
  {
   "cell_type": "code",
   "execution_count": null,
   "id": "2eb44bc1-591b-4d83-a5ea-20519d363ede",
   "metadata": {},
   "outputs": [],
   "source": [
    "def poly(t,coeff_x, coeff_y ):\n",
    "    a,b,c = coeff_x\n",
    "    A,B,C = coeff_y\n",
    "    # start,end = interv\n",
    "    return ((A*(t**2)+B*t+C)**2)*(2*a*t+b)\n",
    "\n",
    "\n",
    "from scipy.integrate import quad,romberg\n",
    "res = 0\n",
    "for i in range(len(xc)):\n",
    "    interv = tc[i]\n",
    "    coeff_x = xc[i]\n",
    "    coeff_y = yc[i]\n",
    "    #r = quad(poly, interv[0], interv[1], args=(coeff_x, coeff_y))\n",
    "    r = romberg(poly, interv[0], interv[1], args=(coeff_x, coeff_y))\n",
    "    #res = res +r[0]\n",
    "    res = res + r\n",
    "    print(r)\n",
    "res = res*np.pi\n",
    "res"
   ]
  },
  {
   "cell_type": "code",
   "execution_count": null,
   "id": "2883be10-300a-452e-abed-f21c4cd53b0d",
   "metadata": {},
   "outputs": [],
   "source": []
  }
 ],
 "metadata": {
  "kernelspec": {
   "display_name": "Python 3 (ipykernel)",
   "language": "python",
   "name": "python3"
  },
  "language_info": {
   "codemirror_mode": {
    "name": "ipython",
    "version": 3
   },
   "file_extension": ".py",
   "mimetype": "text/x-python",
   "name": "python",
   "nbconvert_exporter": "python",
   "pygments_lexer": "ipython3",
   "version": "3.11.5"
  }
 },
 "nbformat": 4,
 "nbformat_minor": 5
}
