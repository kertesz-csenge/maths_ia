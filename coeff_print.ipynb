{
 "cells": [
  {
   "cell_type": "code",
   "execution_count": 2,
   "metadata": {},
   "outputs": [],
   "source": [
    "from coords import x, y, t\n",
    "from lagrange import txt_lagrange"
   ]
  },
  {
   "cell_type": "code",
   "execution_count": 3,
   "metadata": {},
   "outputs": [
    {
     "name": "stdout",
     "output_type": "stream",
     "text": [
      "0.000001 (t-2)(t-3)(t-4)(t-5)(t-6)(t-7)(t-8)(t-9)(t-10)(t-11)-\n",
      "0.000006 (t-1)(t-3)(t-4)(t-5)(t-6)(t-7)(t-8)(t-9)(t-10)(t-11)+\n",
      "0.000012 (t-1)(t-2)(t-4)(t-5)(t-6)(t-7)(t-8)(t-9)(t-10)(t-11)-\n",
      "0.000015 (t-1)(t-2)(t-3)(t-5)(t-6)(t-7)(t-8)(t-9)(t-10)(t-11)+\n",
      "0.000046 (t-1)(t-2)(t-3)(t-4)(t-6)(t-7)(t-8)(t-9)(t-10)(t-11)-\n",
      "0.000232 (t-1)(t-2)(t-3)(t-4)(t-5)(t-7)(t-8)(t-9)(t-10)(t-11)+\n",
      "0.000327 (t-1)(t-2)(t-3)(t-4)(t-5)(t-6)(t-8)(t-9)(t-10)(t-11)-\n",
      "0.000214 (t-1)(t-2)(t-3)(t-4)(t-5)(t-6)(t-7)(t-9)(t-10)(t-11)+\n",
      "0.000074 (t-1)(t-2)(t-3)(t-4)(t-5)(t-6)(t-7)(t-8)(t-10)(t-11)-\n",
      "0.000015 (t-1)(t-2)(t-3)(t-4)(t-5)(t-6)(t-7)(t-8)(t-9)(t-11)+\n",
      "0.000001 (t-1)(t-2)(t-3)(t-4)(t-5)(t-6)(t-7)(t-8)(t-9)(t-10)\n"
     ]
    }
   ],
   "source": [
    "r = txt_lagrange(t, x, \"t\", xformat=\"d\", yformat=\".6f\")\n",
    "print(r)"
   ]
  },
  {
   "cell_type": "code",
   "execution_count": 4,
   "metadata": {},
   "outputs": [
    {
     "name": "stdout",
     "output_type": "stream",
     "text": [
      "0.000000 (t-2)(t-3)(t-4)(t-5)(t-6)(t-7)(t-8)(t-9)(t-10)(t-11)-\n",
      "0.000000 (t-1)(t-3)(t-4)(t-5)(t-6)(t-7)(t-8)(t-9)(t-10)(t-11)+\n",
      "0.000008 (t-1)(t-2)(t-4)(t-5)(t-6)(t-7)(t-8)(t-9)(t-10)(t-11)-\n",
      "0.000050 (t-1)(t-2)(t-3)(t-5)(t-6)(t-7)(t-8)(t-9)(t-10)(t-11)+\n",
      "0.000145 (t-1)(t-2)(t-3)(t-4)(t-6)(t-7)(t-8)(t-9)(t-10)(t-11)-\n",
      "0.000240 (t-1)(t-2)(t-3)(t-4)(t-5)(t-7)(t-8)(t-9)(t-10)(t-11)+\n",
      "0.000161 (t-1)(t-2)(t-3)(t-4)(t-5)(t-6)(t-8)(t-9)(t-10)(t-11)-\n",
      "0.000049 (t-1)(t-2)(t-3)(t-4)(t-5)(t-6)(t-7)(t-9)(t-10)(t-11)+\n",
      "0.000008 (t-1)(t-2)(t-3)(t-4)(t-5)(t-6)(t-7)(t-8)(t-10)(t-11)-\n",
      "0.000001 (t-1)(t-2)(t-3)(t-4)(t-5)(t-6)(t-7)(t-8)(t-9)(t-11)+\n",
      "0.000000 (t-1)(t-2)(t-3)(t-4)(t-5)(t-6)(t-7)(t-8)(t-9)(t-10)\n"
     ]
    }
   ],
   "source": [
    "r = txt_lagrange(t, y, \"t\", xformat=\"d\", yformat=\".6f\")\n",
    "print(r)"
   ]
  },
  {
   "cell_type": "code",
   "execution_count": null,
   "metadata": {},
   "outputs": [],
   "source": []
  }
 ],
 "metadata": {
  "kernelspec": {
   "display_name": "Python 3 (ipykernel)",
   "language": "python",
   "name": "python3"
  },
  "language_info": {
   "codemirror_mode": {
    "name": "ipython",
    "version": 3
   },
   "file_extension": ".py",
   "mimetype": "text/x-python",
   "name": "python",
   "nbconvert_exporter": "python",
   "pygments_lexer": "ipython3",
   "version": "3.11.5"
  }
 },
 "nbformat": 4,
 "nbformat_minor": 4
}
